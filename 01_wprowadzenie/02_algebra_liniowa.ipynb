{
  "nbformat": 4,
  "nbformat_minor": 0,
  "metadata": {
    "colab": {
      "provenance": [],
      "authorship_tag": "ABX9TyMDUVKhHWKv/mlv+T00bDwD",
      "include_colab_link": true
    },
    "kernelspec": {
      "name": "python3",
      "display_name": "Python 3"
    },
    "language_info": {
      "name": "python"
    }
  },
  "cells": [
    {
      "cell_type": "markdown",
      "metadata": {
        "id": "view-in-github",
        "colab_type": "text"
      },
      "source": [
        "<a href=\"https://colab.research.google.com/github/aleksandrablaszczyk/bikes/blob/Data-Science-bootcamp/01_wprowadzenie/02_algebra_liniowa.ipynb\" target=\"_parent\"><img src=\"https://colab.research.google.com/assets/colab-badge.svg\" alt=\"Open In Colab\"/></a>"
      ]
    },
    {
      "cell_type": "code",
      "execution_count": 1,
      "metadata": {
        "id": "s9hAmBGkHGmZ"
      },
      "outputs": [],
      "source": [
        "import numpy as np"
      ]
    },
    {
      "cell_type": "markdown",
      "source": [
        "#Norma wektora, długość wektora w  R2\n",
        "\n",
        "Wektor: ${\\mathbf  {v}} = [v_{1}, v_{2}]$  - ma początek i koniec, ma kierunek\n",
        "\n",
        "Norma wektora: $\\left\\|{\\mathbf  {v}}\\right\\|={\\sqrt  {v_{1}^{2}+v_{2}^{2}}}$ -  pierwiastek z kwadratu sumy współrzednych tego wektora. Czyli odległość euklidesowa od środka układu współrzędnych.\n",
        "\n"
      ],
      "metadata": {
        "id": "FqZfBFOfHYnc"
      }
    },
    {
      "cell_type": "code",
      "source": [
        "v1 = np.array([-1,4])\n",
        "v1"
      ],
      "metadata": {
        "colab": {
          "base_uri": "https://localhost:8080/"
        },
        "id": "xSjGZvsuIN06",
        "outputId": "4c7e298a-42a0-4bfa-b35e-ac4e144da142"
      },
      "execution_count": 5,
      "outputs": [
        {
          "output_type": "execute_result",
          "data": {
            "text/plain": [
              "array([-1,  4])"
            ]
          },
          "metadata": {},
          "execution_count": 5
        }
      ]
    },
    {
      "cell_type": "code",
      "source": [
        "#funkcja, która liczy normę wektora\n",
        "np.linalg.norm(v1)"
      ],
      "metadata": {
        "colab": {
          "base_uri": "https://localhost:8080/"
        },
        "id": "x33dSLLoIXOY",
        "outputId": "d5df4457-ef3c-4c69-ce9d-9d9a0146dddf"
      },
      "execution_count": 6,
      "outputs": [
        {
          "output_type": "execute_result",
          "data": {
            "text/plain": [
              "4.123105625617661"
            ]
          },
          "metadata": {},
          "execution_count": 6
        }
      ]
    },
    {
      "cell_type": "markdown",
      "source": [
        "#Norma euklidesowa w R^n\n",
        "\n",
        "$\\left\\|{\\mathbf  {v}}\\right\\|={\\sqrt  {v_{1}^{2}+v_{2}^{2}+\\cdots +v_{n}^{2}}}$ - uogólnienie normy wektora. Chcemy policzyć długość wektora w przestzeni R^n"
      ],
      "metadata": {
        "id": "LXSg_R-TIm6N"
      }
    },
    {
      "cell_type": "code",
      "source": [
        "v2 = np.array([-10,10,13])\n",
        "np.linalg.norm(v2)"
      ],
      "metadata": {
        "colab": {
          "base_uri": "https://localhost:8080/"
        },
        "id": "4RIjSLqQIdJ7",
        "outputId": "ef52c081-ddf1-4d06-a211-a6308ca494d0"
      },
      "execution_count": 7,
      "outputs": [
        {
          "output_type": "execute_result",
          "data": {
            "text/plain": [
              "19.209372712298546"
            ]
          },
          "metadata": {},
          "execution_count": 7
        }
      ]
    },
    {
      "cell_type": "markdown",
      "source": [
        "Jak widać tutaj już nie bardzo można sobie zwizualizować długość tego wektora. ML wykorzystuje modele w kilkuset-kilku tysiącach wymiarów, więc nie jest to możliwe do policzenia ot tak"
      ],
      "metadata": {
        "id": "Yd6NRpoeJdVJ"
      }
    },
    {
      "cell_type": "markdown",
      "source": [
        "# Odległość dwóch punktów na płaszczyźnie\n",
        "Różnica współrzędnych naszych punktów i potem liczymy normę"
      ],
      "metadata": {
        "id": "_9cpCzc1JwrM"
      }
    },
    {
      "cell_type": "code",
      "source": [
        "p = np.array([3,0])\n",
        "q= np.array([0,4])\n",
        "\n",
        "#teraz odejmujemy odległość q od p, a następnie liczymy odległość\n",
        "np.linalg.norm(p-q)"
      ],
      "metadata": {
        "colab": {
          "base_uri": "https://localhost:8080/"
        },
        "id": "CwAJOZFjKBlf",
        "outputId": "a710a02e-5dc3-4d79-fa7f-ef7d590ee1c9"
      },
      "execution_count": 8,
      "outputs": [
        {
          "output_type": "execute_result",
          "data": {
            "text/plain": [
              "5.0"
            ]
          },
          "metadata": {},
          "execution_count": 8
        }
      ]
    },
    {
      "cell_type": "markdown",
      "source": [
        "#Odlgełość dwóch punktów w przestrzeni R^n\n",
        "\n",
        " \\begin{aligned}d(\\mathbf {p} ,\\mathbf {q} )=d(\\mathbf {q} ,\\mathbf {p} )&={\\sqrt {(q_{1}-p_{1})^{2}+(q_{2}-p_{2})^{2}+\\cdots +(q_{n}-p_{n})^{2}}}\\\\[8pt]&={\\sqrt {\\sum _{i=1}^{n}(q_{i}-p_{i})^{2}}}\\end{aligned}\n"
      ],
      "metadata": {
        "id": "ZQdtqGMhJ0V8"
      }
    },
    {
      "cell_type": "code",
      "source": [
        "#Zasada działania jest taka sama w przstrzeni R^n. Każdy kolejny wymiar to dodanie kolejnej współrzędnej, ale zasada liczenia jest taka sama\n",
        "\n",
        "\n",
        "p = np.array([3,0,1])\n",
        "q= np.array([0,4,2])\n",
        "\n",
        "np.linalg.norm(p-q)"
      ],
      "metadata": {
        "colab": {
          "base_uri": "https://localhost:8080/"
        },
        "id": "UAEP6ykJJYc6",
        "outputId": "e166ea5c-b5ec-45a9-d5fd-8e60a56ac8b7"
      },
      "execution_count": 11,
      "outputs": [
        {
          "output_type": "execute_result",
          "data": {
            "text/plain": [
              "5.0990195135927845"
            ]
          },
          "metadata": {},
          "execution_count": 11
        }
      ]
    },
    {
      "cell_type": "code",
      "source": [],
      "metadata": {
        "id": "u3xUf5fyKj2v"
      },
      "execution_count": null,
      "outputs": []
    }
  ]
}