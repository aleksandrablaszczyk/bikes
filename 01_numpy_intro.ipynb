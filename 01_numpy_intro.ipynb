{
  "nbformat": 4,
  "nbformat_minor": 0,
  "metadata": {
    "colab": {
      "provenance": [],
      "authorship_tag": "ABX9TyOdK09VZaO+oZHPSntces0E",
      "include_colab_link": true
    },
    "kernelspec": {
      "name": "python3",
      "display_name": "Python 3"
    },
    "language_info": {
      "name": "python"
    }
  },
  "cells": [
    {
      "cell_type": "markdown",
      "metadata": {
        "id": "view-in-github",
        "colab_type": "text"
      },
      "source": [
        "<a href=\"https://colab.research.google.com/github/aleksandrablaszczyk/bikes/blob/Data-Science-bootcamp/01_numpy_intro.ipynb\" target=\"_parent\"><img src=\"https://colab.research.google.com/assets/colab-badge.svg\" alt=\"Open In Colab\"/></a>"
      ]
    },
    {
      "cell_type": "code",
      "execution_count": 2,
      "metadata": {
        "colab": {
          "base_uri": "https://localhost:8080/",
          "height": 35
        },
        "id": "FXQrqQmoKoOC",
        "outputId": "571a2ecc-f346-471b-8d8b-9422960a367a"
      },
      "outputs": [
        {
          "output_type": "execute_result",
          "data": {
            "text/plain": [
              "'1.23.5'"
            ],
            "application/vnd.google.colaboratory.intrinsic+json": {
              "type": "string"
            }
          },
          "metadata": {},
          "execution_count": 2
        }
      ],
      "source": [
        "#import i sprawdzenie wersji\n",
        "import numpy as np\n",
        "np.__version__"
      ]
    },
    {
      "cell_type": "code",
      "source": [
        "#klasy, metody, atrybuty\n",
        "\n",
        "print(dir(np))"
      ],
      "metadata": {
        "id": "-y65N_SOKt7u"
      },
      "execution_count": null,
      "outputs": []
    },
    {
      "cell_type": "code",
      "source": [
        "#podstawowa funkcja to array. Tutaj komenda, żeby wyświetlić dokumentację\n",
        "\n",
        "help(np.array)"
      ],
      "metadata": {
        "id": "6QzUBDyCLBXh"
      },
      "execution_count": null,
      "outputs": []
    },
    {
      "cell_type": "markdown",
      "source": [
        "##1D Array"
      ],
      "metadata": {
        "id": "MU97eVuuLklM"
      }
    },
    {
      "cell_type": "markdown",
      "source": [
        "ważna jest umiejętność posługiwania się typami tablic. Dzięki temu możemy poprawnie wykonywać funkcje sieci neuronowych, które składają się z wielu operacji mnożenia i dodawania macierzy. Umiejętność dobrego operowania na kształtach jest kluczowa."
      ],
      "metadata": {
        "id": "EvQb2QlJNtEX"
      }
    },
    {
      "cell_type": "code",
      "source": [
        "#Podstawowym obiektem Numpy jest wielowymiarowa tablica. Cechą charakterystyczną jest jednorodność elementów - ten sam typ. Wymiary często nazywane są osiami - axes. Klasa do której należą te obiekty to nD array\n",
        "#na początek 1D array\n",
        "\n",
        "x = np.array([1,3])\n",
        "x\n",
        "#x jest tablicą jednowymiarową. Można ją też wyprintować:\n",
        "\n",
        "print(x)\n"
      ],
      "metadata": {
        "colab": {
          "base_uri": "https://localhost:8080/"
        },
        "id": "DRYpyT0rLUw0",
        "outputId": "45b24f18-7dcb-4142-b20a-6c7f4b656b3d"
      },
      "execution_count": 9,
      "outputs": [
        {
          "output_type": "stream",
          "name": "stdout",
          "text": [
            "[1 3]\n"
          ]
        }
      ]
    },
    {
      "cell_type": "code",
      "source": [
        "#Możęmy sprawdzić typ tego obiektu.\n",
        "type(x)"
      ],
      "metadata": {
        "colab": {
          "base_uri": "https://localhost:8080/"
        },
        "id": "ri6Zc34PL894",
        "outputId": "aa6554ca-8be9-463d-dcc8-d6b0416ce957"
      },
      "execution_count": 11,
      "outputs": [
        {
          "output_type": "execute_result",
          "data": {
            "text/plain": [
              "numpy.ndarray"
            ]
          },
          "metadata": {},
          "execution_count": 11
        }
      ]
    },
    {
      "cell_type": "code",
      "source": [
        "#Teraz atrybuty klasy nD array\n",
        "\n",
        "x.ndim\n",
        "\n",
        "#mierzy wymiar tablicy"
      ],
      "metadata": {
        "colab": {
          "base_uri": "https://localhost:8080/"
        },
        "id": "BXmA7L60MPLG",
        "outputId": "dd9b1588-4c2f-4ea2-ea2e-89c1ad5062d4"
      },
      "execution_count": 12,
      "outputs": [
        {
          "output_type": "execute_result",
          "data": {
            "text/plain": [
              "1"
            ]
          },
          "metadata": {},
          "execution_count": 12
        }
      ]
    },
    {
      "cell_type": "code",
      "source": [
        "#kształt\n",
        "x.shape\n",
        "\n",
        "#często używany"
      ],
      "metadata": {
        "colab": {
          "base_uri": "https://localhost:8080/"
        },
        "id": "Themj4XxMce5",
        "outputId": "5a1d6c3a-787b-41f3-db1c-a9a8cff92211"
      },
      "execution_count": 16,
      "outputs": [
        {
          "output_type": "execute_result",
          "data": {
            "text/plain": [
              "(2,)"
            ]
          },
          "metadata": {},
          "execution_count": 16
        }
      ]
    },
    {
      "cell_type": "code",
      "source": [
        "#liczba elementów w tablicy\n",
        "x.size"
      ],
      "metadata": {
        "colab": {
          "base_uri": "https://localhost:8080/"
        },
        "id": "BYr7aH11MfXq",
        "outputId": "07bf2067-f50c-4e4b-840c-469106241005"
      },
      "execution_count": 14,
      "outputs": [
        {
          "output_type": "execute_result",
          "data": {
            "text/plain": [
              "2"
            ]
          },
          "metadata": {},
          "execution_count": 14
        }
      ]
    },
    {
      "cell_type": "code",
      "source": [
        "#określa typ danych\n",
        "x.dtype\n",
        "\n",
        "#często używany"
      ],
      "metadata": {
        "colab": {
          "base_uri": "https://localhost:8080/"
        },
        "id": "4YsnDZN5MjlL",
        "outputId": "909767e3-7d55-4bf9-c698-577279c39c97"
      },
      "execution_count": 17,
      "outputs": [
        {
          "output_type": "execute_result",
          "data": {
            "text/plain": [
              "dtype('int64')"
            ]
          },
          "metadata": {},
          "execution_count": 17
        }
      ]
    },
    {
      "cell_type": "code",
      "source": [
        "x= np.array ([1.3,2.3,1.4])\n",
        "print(x)"
      ],
      "metadata": {
        "colab": {
          "base_uri": "https://localhost:8080/"
        },
        "id": "oZdhraneMmbz",
        "outputId": "ffe35f82-d6ba-4204-ae6b-36e559f2e8f6"
      },
      "execution_count": 19,
      "outputs": [
        {
          "output_type": "stream",
          "name": "stdout",
          "text": [
            "[1.3 2.3 1.4]\n"
          ]
        }
      ]
    },
    {
      "cell_type": "code",
      "source": [
        "x.dtype"
      ],
      "metadata": {
        "colab": {
          "base_uri": "https://localhost:8080/"
        },
        "id": "CN_ObHUJMzo_",
        "outputId": "49d40e8c-0333-4d17-e1ff-c5115ad58c25"
      },
      "execution_count": 20,
      "outputs": [
        {
          "output_type": "execute_result",
          "data": {
            "text/plain": [
              "dtype('float64')"
            ]
          },
          "metadata": {},
          "execution_count": 20
        }
      ]
    },
    {
      "cell_type": "code",
      "source": [],
      "metadata": {
        "id": "GDccKqDhM8EM"
      },
      "execution_count": null,
      "outputs": []
    },
    {
      "cell_type": "markdown",
      "source": [
        "# 2D array"
      ],
      "metadata": {
        "id": "TbOJuFhYM-M0"
      }
    },
    {
      "cell_type": "code",
      "source": [
        "x= np.array([[1,2,], [-3,1]])\n",
        "x\n",
        "#wyświetla się jako tablica dwucwymiarowa"
      ],
      "metadata": {
        "colab": {
          "base_uri": "https://localhost:8080/"
        },
        "id": "sTWpTNSkM_0w",
        "outputId": "ad2a48ac-9b72-4730-aad3-469af5e97478"
      },
      "execution_count": 22,
      "outputs": [
        {
          "output_type": "execute_result",
          "data": {
            "text/plain": [
              "array([[ 1,  2],\n",
              "       [-3,  1]])"
            ]
          },
          "metadata": {},
          "execution_count": 22
        }
      ]
    },
    {
      "cell_type": "code",
      "source": [
        "x.ndim"
      ],
      "metadata": {
        "colab": {
          "base_uri": "https://localhost:8080/"
        },
        "id": "nRWSWtaqNKO8",
        "outputId": "23fb39ee-10c9-4ac5-b5c3-69c806b6f48e"
      },
      "execution_count": 23,
      "outputs": [
        {
          "output_type": "execute_result",
          "data": {
            "text/plain": [
              "2"
            ]
          },
          "metadata": {},
          "execution_count": 23
        }
      ]
    },
    {
      "cell_type": "code",
      "source": [
        "x.shape\n",
        "#2 wiersze i 2 kolumny"
      ],
      "metadata": {
        "colab": {
          "base_uri": "https://localhost:8080/"
        },
        "id": "7ICJ1X7tNSaN",
        "outputId": "0d16ad1e-ca38-40b0-de14-3476282a5962"
      },
      "execution_count": 25,
      "outputs": [
        {
          "output_type": "execute_result",
          "data": {
            "text/plain": [
              "(2, 2)"
            ]
          },
          "metadata": {},
          "execution_count": 25
        }
      ]
    },
    {
      "cell_type": "code",
      "source": [
        "#tutaj robimy znowu dwuwierszową tablicę, ale z 3 kolumnami - widać w shape\n",
        "x = np.array([[1,2,4], [4,2,1]])\n",
        "print(x)"
      ],
      "metadata": {
        "colab": {
          "base_uri": "https://localhost:8080/"
        },
        "id": "dlGqDdAUNpBj",
        "outputId": "1e9576b3-b829-4468-ca1a-845ef25ae9c8"
      },
      "execution_count": 30,
      "outputs": [
        {
          "output_type": "stream",
          "name": "stdout",
          "text": [
            "[[1 2 4]\n",
            " [4 2 1]]\n"
          ]
        }
      ]
    },
    {
      "cell_type": "code",
      "source": [
        "x.shape"
      ],
      "metadata": {
        "colab": {
          "base_uri": "https://localhost:8080/"
        },
        "id": "N84q9Cv5OBB6",
        "outputId": "d6c197fe-cacf-4681-db73-88cf11354a6b"
      },
      "execution_count": 29,
      "outputs": [
        {
          "output_type": "execute_result",
          "data": {
            "text/plain": [
              "(2, 3)"
            ]
          },
          "metadata": {},
          "execution_count": 29
        }
      ]
    },
    {
      "cell_type": "markdown",
      "source": [
        "#3D Array"
      ],
      "metadata": {
        "id": "r9YbD2AoORrT"
      }
    },
    {
      "cell_type": "markdown",
      "source": [
        "Marcierze trójwymiarowe pozwalają przechowywać bardziej skomplikowane rzeczy, jak np. obrazy"
      ],
      "metadata": {
        "id": "vS3cHYHxOUWE"
      }
    },
    {
      "cell_type": "code",
      "source": [
        "#tutaj trzeba bardzo uważnie z tym zagnieżdżaniem - wcale nie jest to takie oczywiste\n",
        "x = np.array(\n",
        "    [[[4,3,1],\n",
        "      [3,1,2]],\n",
        "\n",
        "      [[4,1,3],\n",
        "       [4,2,1]],\n",
        "\n",
        "     [[3,2,1],\n",
        "      [4,3,2]]]\n",
        ")\n",
        "x"
      ],
      "metadata": {
        "colab": {
          "base_uri": "https://localhost:8080/"
        },
        "id": "HA_0cTn8OFpj",
        "outputId": "cbe31371-540b-4970-f117-0b756fcdcb64"
      },
      "execution_count": 41,
      "outputs": [
        {
          "output_type": "execute_result",
          "data": {
            "text/plain": [
              "array([[[4, 3, 1],\n",
              "        [3, 1, 2]],\n",
              "\n",
              "       [[4, 1, 3],\n",
              "        [4, 2, 1]],\n",
              "\n",
              "       [[3, 2, 1],\n",
              "        [4, 3, 2]]])"
            ]
          },
          "metadata": {},
          "execution_count": 41
        }
      ]
    },
    {
      "cell_type": "code",
      "source": [
        "#teraz powinno się wyświetlić 3\n",
        "x.ndim"
      ],
      "metadata": {
        "colab": {
          "base_uri": "https://localhost:8080/"
        },
        "id": "RYCueDfQOwBj",
        "outputId": "7283a1d7-2d64-4f6b-e77a-76a476034a21"
      },
      "execution_count": 42,
      "outputs": [
        {
          "output_type": "execute_result",
          "data": {
            "text/plain": [
              "3"
            ]
          },
          "metadata": {},
          "execution_count": 42
        }
      ]
    },
    {
      "cell_type": "code",
      "source": [
        "x.shape"
      ],
      "metadata": {
        "colab": {
          "base_uri": "https://localhost:8080/"
        },
        "id": "m7cOph6tOzvr",
        "outputId": "fba43eda-cf52-4f26-fb41-df15c226ad18"
      },
      "execution_count": 43,
      "outputs": [
        {
          "output_type": "execute_result",
          "data": {
            "text/plain": [
              "(3, 2, 3)"
            ]
          },
          "metadata": {},
          "execution_count": 43
        }
      ]
    },
    {
      "cell_type": "markdown",
      "source": [
        "wyświetla się 3,2,3 bo mamy:\n",
        "* 3 tablice\n",
        "* 2 wiersze\n",
        "* 3 kolumny"
      ],
      "metadata": {
        "id": "pXDxo5MiPNPZ"
      }
    },
    {
      "cell_type": "markdown",
      "source": [
        "#Typy danych"
      ],
      "metadata": {
        "id": "Z-iOD3_WXrPx"
      }
    },
    {
      "cell_type": "code",
      "source": [
        "A = np.array([1,2,3])\n",
        "A.dtype\n",
        "#NumPy domyslnie wybiera najbardziej pasujący typ danych. W tym przypadku - liczb całkowitych - jest to int64"
      ],
      "metadata": {
        "colab": {
          "base_uri": "https://localhost:8080/"
        },
        "id": "ym8Vxok_PHJd",
        "outputId": "c5d7b390-27f2-4783-b619-46f2bedce427"
      },
      "execution_count": 48,
      "outputs": [
        {
          "output_type": "execute_result",
          "data": {
            "text/plain": [
              "dtype('int64')"
            ]
          },
          "metadata": {},
          "execution_count": 48
        }
      ]
    },
    {
      "cell_type": "code",
      "source": [
        "A = np.array([1.0,2.3,3.3])\n",
        "A.dtype\n",
        "#tutaj mamy ułamki, więc będzie to float64"
      ],
      "metadata": {
        "colab": {
          "base_uri": "https://localhost:8080/"
        },
        "id": "zVs9YEHqX1uA",
        "outputId": "73ed8e29-31b3-43f8-890c-d79f5ef74d3d"
      },
      "execution_count": 49,
      "outputs": [
        {
          "output_type": "execute_result",
          "data": {
            "text/plain": [
              "dtype('float64')"
            ]
          },
          "metadata": {},
          "execution_count": 49
        }
      ]
    },
    {
      "cell_type": "code",
      "source": [
        "#można też samodzielnie ustawić jaki to typ, wtedy mimo że są to liczby całkowite, będą one wyświetlone jako float64\n",
        "A = np.array([1,2,3], dtype='float')\n",
        "A.dtype"
      ],
      "metadata": {
        "colab": {
          "base_uri": "https://localhost:8080/"
        },
        "id": "-iMIaL0aX_GD",
        "outputId": "50be1f45-1015-4726-d64b-2523b74e6ffc"
      },
      "execution_count": 50,
      "outputs": [
        {
          "output_type": "execute_result",
          "data": {
            "text/plain": [
              "dtype('float64')"
            ]
          },
          "metadata": {},
          "execution_count": 50
        }
      ]
    },
    {
      "cell_type": "code",
      "source": [
        "A"
      ],
      "metadata": {
        "colab": {
          "base_uri": "https://localhost:8080/"
        },
        "id": "vkJKHu3jYIL7",
        "outputId": "f308bfce-0f98-4432-ef4f-8556eaab1a5c"
      },
      "execution_count": 51,
      "outputs": [
        {
          "output_type": "execute_result",
          "data": {
            "text/plain": [
              "array([1., 2., 3.])"
            ]
          },
          "metadata": {},
          "execution_count": 51
        }
      ]
    },
    {
      "cell_type": "code",
      "source": [
        "A = np.array([1,2,3], dtype='complex')\n",
        "A.dtype\n",
        "#typ złożony - complex"
      ],
      "metadata": {
        "colab": {
          "base_uri": "https://localhost:8080/"
        },
        "id": "artKBwv9YJUD",
        "outputId": "09fd723b-604f-445b-8852-61d9140bd65a"
      },
      "execution_count": 53,
      "outputs": [
        {
          "output_type": "execute_result",
          "data": {
            "text/plain": [
              "dtype('complex128')"
            ]
          },
          "metadata": {},
          "execution_count": 53
        }
      ]
    },
    {
      "cell_type": "code",
      "source": [
        "A"
      ],
      "metadata": {
        "colab": {
          "base_uri": "https://localhost:8080/"
        },
        "id": "eyZWgMJyYkfD",
        "outputId": "2e28a4d0-fda5-4535-a1a2-c336a0120106"
      },
      "execution_count": 54,
      "outputs": [
        {
          "output_type": "execute_result",
          "data": {
            "text/plain": [
              "array([1.+0.j, 2.+0.j, 3.+0.j])"
            ]
          },
          "metadata": {},
          "execution_count": 54
        }
      ]
    },
    {
      "cell_type": "code",
      "source": [
        "#teraz robimy odwrotnie. Float wyświetlamy jako integer. Trzeba tutaj bardzo uważać, ponieważ te wartości będą obcięte i wyświetlą tylko liczby całkowite\n",
        "A = np.array([1.0,2.3,3.3], dtype='int')\n",
        "A.dtype"
      ],
      "metadata": {
        "colab": {
          "base_uri": "https://localhost:8080/"
        },
        "id": "DcK_rhJ4Y6Kz",
        "outputId": "5aa25e67-e16b-4874-ecb1-de1e620f1c06"
      },
      "execution_count": 55,
      "outputs": [
        {
          "output_type": "execute_result",
          "data": {
            "text/plain": [
              "dtype('int64')"
            ]
          },
          "metadata": {},
          "execution_count": 55
        }
      ]
    },
    {
      "cell_type": "code",
      "source": [
        "A"
      ],
      "metadata": {
        "colab": {
          "base_uri": "https://localhost:8080/"
        },
        "id": "MiZ1cAaoZKj7",
        "outputId": "6ac86afe-e81a-464a-f654-c453389689db"
      },
      "execution_count": 56,
      "outputs": [
        {
          "output_type": "execute_result",
          "data": {
            "text/plain": [
              "array([1, 2, 3])"
            ]
          },
          "metadata": {},
          "execution_count": 56
        }
      ]
    },
    {
      "cell_type": "code",
      "source": [
        "A = np.array ([True, False])\n",
        "A.dtype"
      ],
      "metadata": {
        "colab": {
          "base_uri": "https://localhost:8080/"
        },
        "id": "oTyfQmnKZLNb",
        "outputId": "b0047950-a532-4ea4-a9a9-c63af24450f5"
      },
      "execution_count": 57,
      "outputs": [
        {
          "output_type": "execute_result",
          "data": {
            "text/plain": [
              "dtype('bool')"
            ]
          },
          "metadata": {},
          "execution_count": 57
        }
      ]
    },
    {
      "cell_type": "code",
      "source": [
        "#można też używać mniejszego typu danych, przydaje się np. w analizie obrazów, ale ma ograniczenia do liczb całkowityh 8bitowych.\n",
        "A = np.array([24,120,230], dtype=np.int8)\n",
        "A.dtype"
      ],
      "metadata": {
        "colab": {
          "base_uri": "https://localhost:8080/"
        },
        "id": "eA1fTAyuZPvj",
        "outputId": "c328e52a-0edf-4f5e-d3a9-44bab7d3b75e"
      },
      "execution_count": 59,
      "outputs": [
        {
          "output_type": "execute_result",
          "data": {
            "text/plain": [
              "dtype('int8')"
            ]
          },
          "metadata": {},
          "execution_count": 59
        }
      ]
    },
    {
      "cell_type": "code",
      "source": [
        "#dużo bardziej populerne jest użycie uint8, możemy wtedy użyć wartości od 0 do 255, czyli akurat żeby opisać obraz\n",
        "A = np.array([24,120,230], dtype=np.uint8)\n",
        "A.dtype"
      ],
      "metadata": {
        "colab": {
          "base_uri": "https://localhost:8080/"
        },
        "id": "EPkpP7qXZa-U",
        "outputId": "6070c9f1-3714-4265-f43b-d3f35170c723"
      },
      "execution_count": 60,
      "outputs": [
        {
          "output_type": "execute_result",
          "data": {
            "text/plain": [
              "dtype('uint8')"
            ]
          },
          "metadata": {},
          "execution_count": 60
        }
      ]
    },
    {
      "cell_type": "markdown",
      "source": [
        "#Tworzenie tablic"
      ],
      "metadata": {
        "id": "vh1ljRoQZ73v"
      }
    },
    {
      "cell_type": "markdown",
      "source": [
        "## Zeros"
      ],
      "metadata": {
        "id": "g094V7Upa7RP"
      }
    },
    {
      "cell_type": "code",
      "source": [
        "#Mamy kilka wbudowanych funkcji, które pozwalają lepiej budować tablice i automatyzować ten proces.\n",
        "\n",
        "A = np.zeros(shape=(4,10))\n",
        "A\n",
        "#ta funkcja tworzy tablicę o podanym wymiarze z samych zer - tutaj 4 wiersze i 10 kolumn. Funkcja ta przydaje się do tworzenia masek w technikach computer vision, np jak mamy zdjęcie 600x800 pix, które ma czarne tło, wtedy się to przydaje\n"
      ],
      "metadata": {
        "colab": {
          "base_uri": "https://localhost:8080/"
        },
        "id": "X-cp9g1sZ2zj",
        "outputId": "c9304a7b-476e-4d4b-8f20-b34eb9586d24"
      },
      "execution_count": 69,
      "outputs": [
        {
          "output_type": "execute_result",
          "data": {
            "text/plain": [
              "array([[0., 0., 0., 0., 0., 0., 0., 0., 0., 0.],\n",
              "       [0., 0., 0., 0., 0., 0., 0., 0., 0., 0.],\n",
              "       [0., 0., 0., 0., 0., 0., 0., 0., 0., 0.],\n",
              "       [0., 0., 0., 0., 0., 0., 0., 0., 0., 0.]])"
            ]
          },
          "metadata": {},
          "execution_count": 69
        }
      ]
    },
    {
      "cell_type": "code",
      "source": [
        "A.dtype"
      ],
      "metadata": {
        "colab": {
          "base_uri": "https://localhost:8080/"
        },
        "id": "jbvWTA68aJLT",
        "outputId": "e9675b5d-ce25-483a-c09a-c66b6ddcdd5d"
      },
      "execution_count": 70,
      "outputs": [
        {
          "output_type": "execute_result",
          "data": {
            "text/plain": [
              "dtype('float64')"
            ]
          },
          "metadata": {},
          "execution_count": 70
        }
      ]
    },
    {
      "cell_type": "code",
      "source": [
        "#domyślnym typem tutaj jest float, ale możemy sobie to ustawić\n",
        "\n",
        "A = np.zeros(shape=(4,10), dtype='int')\n",
        "A"
      ],
      "metadata": {
        "colab": {
          "base_uri": "https://localhost:8080/"
        },
        "id": "eHdX6yfsaZsa",
        "outputId": "6e17a482-2663-4a4d-ba75-7a93046d01a1"
      },
      "execution_count": 71,
      "outputs": [
        {
          "output_type": "execute_result",
          "data": {
            "text/plain": [
              "array([[0, 0, 0, 0, 0, 0, 0, 0, 0, 0],\n",
              "       [0, 0, 0, 0, 0, 0, 0, 0, 0, 0],\n",
              "       [0, 0, 0, 0, 0, 0, 0, 0, 0, 0],\n",
              "       [0, 0, 0, 0, 0, 0, 0, 0, 0, 0]])"
            ]
          },
          "metadata": {},
          "execution_count": 71
        }
      ]
    },
    {
      "cell_type": "code",
      "source": [
        "A.dtype"
      ],
      "metadata": {
        "colab": {
          "base_uri": "https://localhost:8080/"
        },
        "id": "1OQmPsY7ajPj",
        "outputId": "c979f3a7-0a4d-4340-efff-a5dce4f858b5"
      },
      "execution_count": 72,
      "outputs": [
        {
          "output_type": "execute_result",
          "data": {
            "text/plain": [
              "dtype('int64')"
            ]
          },
          "metadata": {},
          "execution_count": 72
        }
      ]
    },
    {
      "cell_type": "markdown",
      "source": [
        "## Ones"
      ],
      "metadata": {
        "id": "G74Hzog6a9zn"
      }
    },
    {
      "cell_type": "code",
      "source": [
        "#Działa bardzo podobnie, ale stawia wszędzie jedynki\n",
        "\n",
        "A= np.ones(shape=(5,5), dtype='int')\n",
        "A"
      ],
      "metadata": {
        "colab": {
          "base_uri": "https://localhost:8080/"
        },
        "id": "jadShzCLamzz",
        "outputId": "e270d644-a954-4174-909b-eddec370008e"
      },
      "execution_count": 74,
      "outputs": [
        {
          "output_type": "execute_result",
          "data": {
            "text/plain": [
              "array([[1, 1, 1, 1, 1],\n",
              "       [1, 1, 1, 1, 1],\n",
              "       [1, 1, 1, 1, 1],\n",
              "       [1, 1, 1, 1, 1],\n",
              "       [1, 1, 1, 1, 1]])"
            ]
          },
          "metadata": {},
          "execution_count": 74
        }
      ]
    },
    {
      "cell_type": "markdown",
      "source": [
        "##Full"
      ],
      "metadata": {
        "id": "XphUiRIebIhY"
      }
    },
    {
      "cell_type": "code",
      "source": [
        "#Funkcja full działa na podobnej zasadzie, ale pozwala na wstawienie dowolnej wartości - nie tylko 0 i 1\n",
        "A = np.full(shape=(3,3), fill_value=4, dtype='int')\n",
        "A"
      ],
      "metadata": {
        "colab": {
          "base_uri": "https://localhost:8080/"
        },
        "id": "vHRQ7GSibE5D",
        "outputId": "213c6181-78de-4938-c8e1-9daa42755db7"
      },
      "execution_count": 78,
      "outputs": [
        {
          "output_type": "execute_result",
          "data": {
            "text/plain": [
              "array([[4, 4, 4],\n",
              "       [4, 4, 4],\n",
              "       [4, 4, 4]])"
            ]
          },
          "metadata": {},
          "execution_count": 78
        }
      ]
    },
    {
      "cell_type": "markdown",
      "source": [
        "## Arange"
      ],
      "metadata": {
        "id": "KPVUsszOboa7"
      }
    },
    {
      "cell_type": "code",
      "source": [
        "#pozwala wyświetlić dane w postaci np.array\n",
        "\n",
        "np.arange(10)\n",
        "\n",
        "#działa analogicznie do range w pythonie"
      ],
      "metadata": {
        "colab": {
          "base_uri": "https://localhost:8080/"
        },
        "id": "w_bm8foebTXm",
        "outputId": "67194513-99e6-47f3-d873-4a3edc10ab90"
      },
      "execution_count": 81,
      "outputs": [
        {
          "output_type": "execute_result",
          "data": {
            "text/plain": [
              "array([0, 1, 2, 3, 4, 5, 6, 7, 8, 9])"
            ]
          },
          "metadata": {},
          "execution_count": 81
        }
      ]
    },
    {
      "cell_type": "code",
      "source": [
        "#posiada też inne parametry - pozwala zmienić element od którego będziemy zaczynać, na którym kończyć i co ile ma iterować:\n",
        "\n",
        "np.arange(start=10, stop=101, step=10)"
      ],
      "metadata": {
        "colab": {
          "base_uri": "https://localhost:8080/"
        },
        "id": "RadxvdpqbtJb",
        "outputId": "2898923e-1e84-4522-8948-f0a00e530077"
      },
      "execution_count": 84,
      "outputs": [
        {
          "output_type": "execute_result",
          "data": {
            "text/plain": [
              "array([ 10,  20,  30,  40,  50,  60,  70,  80,  90, 100])"
            ]
          },
          "metadata": {},
          "execution_count": 84
        }
      ]
    },
    {
      "cell_type": "code",
      "source": [
        "#krok może mieć wartość ujemną:\n",
        "\n",
        "np.arange(start=100, stop=9, step=-10)"
      ],
      "metadata": {
        "colab": {
          "base_uri": "https://localhost:8080/"
        },
        "id": "URZZRNv8cAq0",
        "outputId": "d5016955-610c-4048-82d3-48cac3d6dcdd"
      },
      "execution_count": 85,
      "outputs": [
        {
          "output_type": "execute_result",
          "data": {
            "text/plain": [
              "array([100,  90,  80,  70,  60,  50,  40,  30,  20,  10])"
            ]
          },
          "metadata": {},
          "execution_count": 85
        }
      ]
    },
    {
      "cell_type": "code",
      "source": [
        "#Step nie musi być int, może być ułamek\n",
        "np.arange(start=0, stop=1, step=0.05)"
      ],
      "metadata": {
        "colab": {
          "base_uri": "https://localhost:8080/"
        },
        "id": "LmLKpSMZcSWb",
        "outputId": "386227e3-3bcb-4fb6-aedb-5f334fc36ad4"
      },
      "execution_count": 87,
      "outputs": [
        {
          "output_type": "execute_result",
          "data": {
            "text/plain": [
              "array([0.  , 0.05, 0.1 , 0.15, 0.2 , 0.25, 0.3 , 0.35, 0.4 , 0.45, 0.5 ,\n",
              "       0.55, 0.6 , 0.65, 0.7 , 0.75, 0.8 , 0.85, 0.9 , 0.95])"
            ]
          },
          "metadata": {},
          "execution_count": 87
        }
      ]
    },
    {
      "cell_type": "markdown",
      "source": [
        "## Linspace"
      ],
      "metadata": {
        "id": "BVPMeydnceDB"
      }
    },
    {
      "cell_type": "code",
      "source": [
        "#przekazujemy start, stop i zamiast step mamy parametr \"num\", który mówi ile chcemy mieć liczb i one zostaną równo rozłożone\n",
        "\n",
        "np.linspace(start=0, stop=1, num=11)"
      ],
      "metadata": {
        "colab": {
          "base_uri": "https://localhost:8080/"
        },
        "id": "PMnSLkGXcX-6",
        "outputId": "28f1ebd0-f661-4228-aa89-6cf1d0cda162"
      },
      "execution_count": 89,
      "outputs": [
        {
          "output_type": "execute_result",
          "data": {
            "text/plain": [
              "array([0. , 0.1, 0.2, 0.3, 0.4, 0.5, 0.6, 0.7, 0.8, 0.9, 1. ])"
            ]
          },
          "metadata": {},
          "execution_count": 89
        }
      ]
    },
    {
      "cell_type": "markdown",
      "source": [
        "## Zmienianie kształtu"
      ],
      "metadata": {
        "id": "Py_FlrD-cwbs"
      }
    },
    {
      "cell_type": "code",
      "source": [
        "A = np.arange(15)\n",
        "A"
      ],
      "metadata": {
        "colab": {
          "base_uri": "https://localhost:8080/"
        },
        "id": "OgsTsF00cnyq",
        "outputId": "adba9ce3-8d46-42c6-83a7-19ee5ce07631"
      },
      "execution_count": 90,
      "outputs": [
        {
          "output_type": "execute_result",
          "data": {
            "text/plain": [
              "array([ 0,  1,  2,  3,  4,  5,  6,  7,  8,  9, 10, 11, 12, 13, 14])"
            ]
          },
          "metadata": {},
          "execution_count": 90
        }
      ]
    },
    {
      "cell_type": "code",
      "source": [
        "#Aby zmienić rozmiar danych używamy reshape\n",
        "\n",
        "A.reshape((3,5))\n",
        "#wtedy tablica zmienia rozmiar na 3x5 zamiast jednowymiarowej"
      ],
      "metadata": {
        "colab": {
          "base_uri": "https://localhost:8080/"
        },
        "id": "TEjzQc7FczZm",
        "outputId": "27b0a022-4d35-4534-c4d8-fa9a34b6c34e"
      },
      "execution_count": 92,
      "outputs": [
        {
          "output_type": "execute_result",
          "data": {
            "text/plain": [
              "array([[ 0,  1,  2,  3,  4],\n",
              "       [ 5,  6,  7,  8,  9],\n",
              "       [10, 11, 12, 13, 14]])"
            ]
          },
          "metadata": {},
          "execution_count": 92
        }
      ]
    },
    {
      "cell_type": "code",
      "source": [
        "#Jak podamy -1 w liczbie kolumn, to python sam dopasuje tę liczbę - nie musimy tego liczyć, podajemy tylko liczbę wierszy w tej sytuacji\n",
        "A.reshape((3,-1))"
      ],
      "metadata": {
        "colab": {
          "base_uri": "https://localhost:8080/"
        },
        "id": "BC-u_vvQc67k",
        "outputId": "4d102421-9aa4-4e10-d6ac-6990c4e8325f"
      },
      "execution_count": 94,
      "outputs": [
        {
          "output_type": "execute_result",
          "data": {
            "text/plain": [
              "array([[ 0,  1,  2,  3,  4],\n",
              "       [ 5,  6,  7,  8,  9],\n",
              "       [10, 11, 12, 13, 14]])"
            ]
          },
          "metadata": {},
          "execution_count": 94
        }
      ]
    },
    {
      "cell_type": "code",
      "source": [
        "#można też odwrotnie:\n",
        "A.reshape((-1,3))"
      ],
      "metadata": {
        "colab": {
          "base_uri": "https://localhost:8080/"
        },
        "id": "JBnhdf58dGLE",
        "outputId": "b65493eb-05e9-45fb-f30f-4b5221167e6b"
      },
      "execution_count": 95,
      "outputs": [
        {
          "output_type": "execute_result",
          "data": {
            "text/plain": [
              "array([[ 0,  1,  2],\n",
              "       [ 3,  4,  5],\n",
              "       [ 6,  7,  8],\n",
              "       [ 9, 10, 11],\n",
              "       [12, 13, 14]])"
            ]
          },
          "metadata": {},
          "execution_count": 95
        }
      ]
    },
    {
      "cell_type": "markdown",
      "source": [
        "#Podstawowe opracje na tablicach"
      ],
      "metadata": {
        "id": "BvQXo2GJdbAV"
      }
    },
    {
      "cell_type": "code",
      "source": [],
      "metadata": {
        "id": "ghtftIZ_dU6M"
      },
      "execution_count": null,
      "outputs": []
    }
  ]
}